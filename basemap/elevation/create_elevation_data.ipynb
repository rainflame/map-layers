{
 "cells": [
  {
   "cell_type": "code",
   "execution_count": 1,
   "metadata": {},
   "outputs": [],
   "source": [
    "import os\n",
    "import requests \n",
    "import urllib3\n",
    "from alive_progress import alive_bar\n",
    "import concurrent"
   ]
  },
  {
   "cell_type": "code",
   "execution_count": 3,
   "metadata": {},
   "outputs": [
    {
     "name": "stdout",
     "output_type": "stream",
     "text": [
      "requesting next page of items to 50\n",
      "requesting next page of items to 100\n",
      "Total download size: 0.89 GB\n"
     ]
    }
   ],
   "source": [
    "dataset= \"National Elevation Dataset (NED) 1 arc-second\"\n",
    "\n",
    "us_west_bbox = \"-100.336147,50.059513,-127.850165,29.983312\"\n",
    "oregon_bbox = \"-124.566244,46.864746,-116.463504,41.991794\"\n",
    "# -124.566244 \t41.991794 \t-116.463504 \t46.292035\n",
    "\n",
    "# fetch from USGS national map\n",
    "url = \"https://tnmaccess.nationalmap.gov/api/v1/products?datasets={}&bbox={}\".format(dataset, oregon_bbox)\n",
    "\n",
    "response = requests.get(url)\n",
    "data = response.json()\n",
    "\n",
    "urls = []\n",
    "download_bytes = 0\n",
    "\n",
    "total_items = data['total']\n",
    "n = len(data['items'])\n",
    "\n",
    "while n < total_items:\n",
    "    print(\"requesting next page of items to {}\".format(n))\n",
    "    url += '&offset=' + str(n)\n",
    "    response = requests.get(url + \"&offset={}\".format(n))\n",
    "    data = response.json()\n",
    "    for item in data['items']:\n",
    "        urls.append(item['downloadURL'])\n",
    "        download_bytes += item['sizeInBytes']\n",
    "\n",
    "    n += len(data['items'])\n",
    "\n",
    "\n",
    "print('Total download size: {:.2f} GB'.format(download_bytes / 1e9))"
   ]
  },
  {
   "cell_type": "code",
   "execution_count": 4,
   "metadata": {},
   "outputs": [
    {
     "name": "stdout",
     "output_type": "stream",
     "text": [
      "Skipping downloading 0 files that already exist\n",
      "Downloading data... |████████████████████████████████████████| 65/65 [100%] in 4\n"
     ]
    }
   ],
   "source": [
    "# create data/sources/ dir if it doesn't already exist\n",
    "if not os.path.exists('data/sources'):\n",
    "    os.makedirs('data/sources')\n",
    "\n",
    "# filter out any urls that already exist as saved files\n",
    "filtered_urls = [url for url in urls if not os.path.exists(os.path.join('data/sources', url.split('/')[-1]))]\n",
    "\n",
    "print(\"Skipping downloading {} files that already exist\".format(len(urls) - len(filtered_urls)))\n",
    "\n",
    "def request(method, url):\n",
    "    try:\n",
    "        r = urllib3.request(method, url)\n",
    "        return r\n",
    "    except Exception as e:\n",
    "        print('Failed to download', url, e)\n",
    "        return None\n",
    "\n",
    "# download the data in parallel and save each file to data/sources/\n",
    "with alive_bar(len(filtered_urls), title=\"Downloading data...\", force_tty=True) as bar:\n",
    "    with concurrent.futures.ThreadPoolExecutor(max_workers=4) as executor:\n",
    "        future_to_url = {executor.submit(request, \"GET\", url): url for url in filtered_urls}\n",
    "        for future in concurrent.futures.as_completed(future_to_url):\n",
    "            url = future_to_url[future]\n",
    "            filename = url.split('/')[-1]\n",
    "            try:\n",
    "                filepath = os.path.join('data/sources', filename)\n",
    "                if not os.path.exists(filepath):\n",
    "                    data = future.result()\n",
    "                    # save the data to filepath\n",
    "                    with open(filepath, 'wb') as f:\n",
    "                        f.write(data.data)\n",
    "            except Exception as e:\n",
    "                print('Failed to download', filename, e)\n",
    "            bar()\n"
   ]
  }
 ],
 "metadata": {
  "kernelspec": {
   "display_name": ".venv",
   "language": "python",
   "name": "python3"
  },
  "language_info": {
   "codemirror_mode": {
    "name": "ipython",
    "version": 3
   },
   "file_extension": ".py",
   "mimetype": "text/x-python",
   "name": "python",
   "nbconvert_exporter": "python",
   "pygments_lexer": "ipython3",
   "version": "3.10.12"
  },
  "orig_nbformat": 4
 },
 "nbformat": 4,
 "nbformat_minor": 2
}
